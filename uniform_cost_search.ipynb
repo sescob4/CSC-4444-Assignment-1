{
  "cells": [
    {
      "cell_type": "code",
      "execution_count": 7,
      "id": "2f30dcff",
      "metadata": {
        "colab": {
          "base_uri": "https://localhost:8080/"
        },
        "id": "2f30dcff",
        "outputId": "fc2d201a-1d82-45f4-8414-c35df769aea9"
      },
      "outputs": [
        {
          "output_type": "stream",
          "name": "stdout",
          "text": [
            "Minimum cost from 4 to 1 is 3\n",
            "Path: [4, 2, 1]\n"
          ]
        }
      ],
      "source": [
        "# uniform cost function\n",
        "# returns the minimum cost and the path with minimum cost\n",
        "def  uniform_cost_search(start, goal, graph, cost):\n",
        "    answer = {node: {'cost': float('inf'), 'path': []} for node in goal}\n",
        "#     **************************************\n",
        "#     ******** Write your code here ********\n",
        "#     **************************************\n",
        "    pq = [(0, start, [])]\n",
        "\n",
        "    visited = {}\n",
        "\n",
        "    while pq:\n",
        "        pq.sort()\n",
        "        current_cost, current_node, current_path = pq.pop(0)\n",
        "\n",
        "        if current_node in goal and current_cost < answer[current_node]['cost']:\n",
        "            answer[current_node]['cost'] = current_cost\n",
        "            answer[current_node]['path'] = current_path + [current_node]\n",
        "\n",
        "        if current_node in visited and visited[current_node] <= current_cost:\n",
        "            continue\n",
        "\n",
        "        visited[current_node] = current_cost\n",
        "\n",
        "        for neighbor in graph[current_node]:\n",
        "            edge_cost = cost.get((current_node, neighbor), float('inf'))\n",
        "            new_cost = current_cost + edge_cost\n",
        "            pq.append((new_cost, neighbor, current_path + [current_node]))\n",
        "\n",
        "    return answer\n",
        "\n",
        "# main function\n",
        "if __name__ == '__main__':\n",
        "\n",
        "    # create a graph with no more than 30 nodes\n",
        "    graph, cost = [[] for i in range(30)], {}\n",
        "\n",
        "    # add edges to the graph\n",
        "    graph[0].append(4)\n",
        "    graph[0].append(5)\n",
        "    graph[0].append(16)\n",
        "    graph[2].append(1)\n",
        "    graph[3].append(1)\n",
        "    graph[4].append(2)\n",
        "    graph[4].append(3)\n",
        "    graph[4].append(5)\n",
        "    graph[5].append(8)\n",
        "    graph[5].append(18)\n",
        "    graph[6].append(3)\n",
        "    graph[6].append(7)\n",
        "    graph[8].append(16)\n",
        "    graph[8].append(17)\n",
        "    graph[16].append(17)\n",
        "    graph[18].append(6)\n",
        "\n",
        "\n",
        "    # add cost to each edge\n",
        "    cost[(0, 4)] = 3\n",
        "    cost[(0, 5)] = 9\n",
        "    cost[(0, 16)] = 1\n",
        "    cost[(2, 1)] = 2\n",
        "    cost[(3, 1)] = 2\n",
        "    cost[(4, 2)] = 1\n",
        "    cost[(4, 3)] = 8\n",
        "    cost[(4, 5)] = 2\n",
        "    cost[(5, 8)] = 3\n",
        "    cost[(5, 18)] = 2\n",
        "    cost[(6, 3)] = 3\n",
        "    cost[(6, 7)] = 2\n",
        "    cost[(8, 16)] = 4\n",
        "    cost[(8, 17)] = 4\n",
        "    cost[(16, 17)] = 15\n",
        "    cost[(18, 6)] = 1\n",
        "\n",
        "    # set start state\n",
        "    start = 0\n",
        "\n",
        "    # set goal state, there can be multiple goal states\n",
        "    goal = [7]\n",
        "\n",
        "    # call uniform_search_cost function to get the minimum cost to reach the goal and the path with minumum cost\n",
        "    # ****** You have to implement this function *****\n",
        "    min_cost_info = uniform_cost_search(start, goal, graph, cost)\n",
        "\n",
        "    for node, info in min_cost_info.items():\n",
        "        print(f'Minimum cost from {start} to {node} is {info[\"cost\"]}')\n",
        "        print(f'Path: {info[\"path\"]}')"
      ]
    }
  ],
  "metadata": {
    "kernelspec": {
      "display_name": "Python 3 (ipykernel)",
      "language": "python",
      "name": "python3"
    },
    "language_info": {
      "codemirror_mode": {
        "name": "ipython",
        "version": 3
      },
      "file_extension": ".py",
      "mimetype": "text/x-python",
      "name": "python",
      "nbconvert_exporter": "python",
      "pygments_lexer": "ipython3",
      "version": "3.10.9"
    },
    "colab": {
      "provenance": []
    }
  },
  "nbformat": 4,
  "nbformat_minor": 5
}